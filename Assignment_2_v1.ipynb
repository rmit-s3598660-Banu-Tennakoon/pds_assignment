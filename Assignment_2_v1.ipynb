{
 "cells": [
  {
   "cell_type": "code",
   "execution_count": 82,
   "metadata": {
    "scrolled": true
   },
   "outputs": [],
   "source": [
    "import pandas as pd\n",
    "import csv\n",
    "import matplotlib.pyplot as plt\n",
    "import numpy as np\n",
    "import seaborn as sns\n",
    "from scipy import stats\n",
    "from sklearn.cluster import KMeans\n",
    "import seaborn as sns\n",
    "from sklearn import preprocessing\n",
    "from mpl_toolkits.mplot3d import Axes3D"
   ]
  },
  {
   "cell_type": "markdown",
   "metadata": {},
   "source": [
    "# PART 2 - DATA PREPERATION"
   ]
  },
  {
   "cell_type": "code",
   "execution_count": 83,
   "metadata": {
    "scrolled": true
   },
   "outputs": [],
   "source": [
    "## READ IN DATASET TO PANDAS DATAFRAME\n",
    "column_names = (\"Elevation\",\"Aspect\",\"Slope\",\"Horizontal_Distance_To_Hydrology\",\"Vertical_Distance_To_Hydrology\",\"Horizontal_Distance_To_Roadways\",\"Hillshade_9am\",\"Hillshade_Noon\",\"Hillshade_3pm\",\"Horizontal_Distance_To_Fire_Points\",\"Wilderness_Area_01\",\"Wilderness_Area_02\",\"Wilderness_Area_03\",\"Wilderness_Area_04\",\"Soil_Type_01\",\"Soil_Type_02\",\"Soil_Type_03\",\"Soil_Type_04\",\"Soil_Type_05\",\"Soil_Type_06\",\"Soil_Type_07\",\"Soil_Type_08\",\"Soil_Type_09\",\"Soil_Type_10\",\"Soil_Type_11\",\"Soil_Type_12\",\"Soil_Type_13\",\"Soil_Type_14\",\"Soil_Type_15\",\"Soil_Type_16\",\"Soil_Type_17\",\"Soil_Type_18\",\"Soil_Type_19\",\"Soil_Type_20\",\"Soil_Type_21\",\"Soil_Type_22\",\"Soil_Type_23\",\"Soil_Type_24\",\"Soil_Type_25\",\"Soil_Type_26\",\"Soil_Type_27\",\"Soil_Type_28\",\"Soil_Type_29\",\"Soil_Type_30\",\"Soil_Type_31\",\"Soil_Type_32\",\"Soil_Type_33\",\"Soil_Type_34\",\"Soil_Type_35\",\"Soil_Type_36\",\"Soil_Type_37\",\"Soil_Type_38\",\"Soil_Type_39\",\"Soil_Type_40\",\"Cover_Type\")\n",
    "soil = pd.read_table(\"covtype.data\", sep=\",\", names=column_names)"
   ]
  },
  {
   "cell_type": "code",
   "execution_count": 84,
   "metadata": {
    "scrolled": true
   },
   "outputs": [
    {
     "data": {
      "text/plain": [
       "(581012, 55)"
      ]
     },
     "execution_count": 84,
     "metadata": {},
     "output_type": "execute_result"
    }
   ],
   "source": [
    "## CHECK SHAPE OF DATA\n",
    "soil.shape"
   ]
  },
  {
   "cell_type": "code",
   "execution_count": 85,
   "metadata": {
    "scrolled": true
   },
   "outputs": [
    {
     "data": {
      "text/html": [
       "<div>\n",
       "<style scoped>\n",
       "    .dataframe tbody tr th:only-of-type {\n",
       "        vertical-align: middle;\n",
       "    }\n",
       "\n",
       "    .dataframe tbody tr th {\n",
       "        vertical-align: top;\n",
       "    }\n",
       "\n",
       "    .dataframe thead th {\n",
       "        text-align: right;\n",
       "    }\n",
       "</style>\n",
       "<table border=\"1\" class=\"dataframe\">\n",
       "  <thead>\n",
       "    <tr style=\"text-align: right;\">\n",
       "      <th></th>\n",
       "      <th>Elevation</th>\n",
       "      <th>Aspect</th>\n",
       "      <th>Slope</th>\n",
       "      <th>Horizontal_Distance_To_Hydrology</th>\n",
       "      <th>Vertical_Distance_To_Hydrology</th>\n",
       "      <th>Horizontal_Distance_To_Roadways</th>\n",
       "      <th>Hillshade_9am</th>\n",
       "      <th>Hillshade_Noon</th>\n",
       "      <th>Hillshade_3pm</th>\n",
       "      <th>Horizontal_Distance_To_Fire_Points</th>\n",
       "      <th>...</th>\n",
       "      <th>Soil_Type_32</th>\n",
       "      <th>Soil_Type_33</th>\n",
       "      <th>Soil_Type_34</th>\n",
       "      <th>Soil_Type_35</th>\n",
       "      <th>Soil_Type_36</th>\n",
       "      <th>Soil_Type_37</th>\n",
       "      <th>Soil_Type_38</th>\n",
       "      <th>Soil_Type_39</th>\n",
       "      <th>Soil_Type_40</th>\n",
       "      <th>Cover_Type</th>\n",
       "    </tr>\n",
       "  </thead>\n",
       "  <tbody>\n",
       "    <tr>\n",
       "      <th>0</th>\n",
       "      <td>2596</td>\n",
       "      <td>51</td>\n",
       "      <td>3</td>\n",
       "      <td>258</td>\n",
       "      <td>0</td>\n",
       "      <td>510</td>\n",
       "      <td>221</td>\n",
       "      <td>232</td>\n",
       "      <td>148</td>\n",
       "      <td>6279</td>\n",
       "      <td>...</td>\n",
       "      <td>0</td>\n",
       "      <td>0</td>\n",
       "      <td>0</td>\n",
       "      <td>0</td>\n",
       "      <td>0</td>\n",
       "      <td>0</td>\n",
       "      <td>0</td>\n",
       "      <td>0</td>\n",
       "      <td>0</td>\n",
       "      <td>5</td>\n",
       "    </tr>\n",
       "    <tr>\n",
       "      <th>1</th>\n",
       "      <td>2590</td>\n",
       "      <td>56</td>\n",
       "      <td>2</td>\n",
       "      <td>212</td>\n",
       "      <td>-6</td>\n",
       "      <td>390</td>\n",
       "      <td>220</td>\n",
       "      <td>235</td>\n",
       "      <td>151</td>\n",
       "      <td>6225</td>\n",
       "      <td>...</td>\n",
       "      <td>0</td>\n",
       "      <td>0</td>\n",
       "      <td>0</td>\n",
       "      <td>0</td>\n",
       "      <td>0</td>\n",
       "      <td>0</td>\n",
       "      <td>0</td>\n",
       "      <td>0</td>\n",
       "      <td>0</td>\n",
       "      <td>5</td>\n",
       "    </tr>\n",
       "    <tr>\n",
       "      <th>2</th>\n",
       "      <td>2804</td>\n",
       "      <td>139</td>\n",
       "      <td>9</td>\n",
       "      <td>268</td>\n",
       "      <td>65</td>\n",
       "      <td>3180</td>\n",
       "      <td>234</td>\n",
       "      <td>238</td>\n",
       "      <td>135</td>\n",
       "      <td>6121</td>\n",
       "      <td>...</td>\n",
       "      <td>0</td>\n",
       "      <td>0</td>\n",
       "      <td>0</td>\n",
       "      <td>0</td>\n",
       "      <td>0</td>\n",
       "      <td>0</td>\n",
       "      <td>0</td>\n",
       "      <td>0</td>\n",
       "      <td>0</td>\n",
       "      <td>2</td>\n",
       "    </tr>\n",
       "    <tr>\n",
       "      <th>3</th>\n",
       "      <td>2785</td>\n",
       "      <td>155</td>\n",
       "      <td>18</td>\n",
       "      <td>242</td>\n",
       "      <td>118</td>\n",
       "      <td>3090</td>\n",
       "      <td>238</td>\n",
       "      <td>238</td>\n",
       "      <td>122</td>\n",
       "      <td>6211</td>\n",
       "      <td>...</td>\n",
       "      <td>0</td>\n",
       "      <td>0</td>\n",
       "      <td>0</td>\n",
       "      <td>0</td>\n",
       "      <td>0</td>\n",
       "      <td>0</td>\n",
       "      <td>0</td>\n",
       "      <td>0</td>\n",
       "      <td>0</td>\n",
       "      <td>2</td>\n",
       "    </tr>\n",
       "    <tr>\n",
       "      <th>4</th>\n",
       "      <td>2595</td>\n",
       "      <td>45</td>\n",
       "      <td>2</td>\n",
       "      <td>153</td>\n",
       "      <td>-1</td>\n",
       "      <td>391</td>\n",
       "      <td>220</td>\n",
       "      <td>234</td>\n",
       "      <td>150</td>\n",
       "      <td>6172</td>\n",
       "      <td>...</td>\n",
       "      <td>0</td>\n",
       "      <td>0</td>\n",
       "      <td>0</td>\n",
       "      <td>0</td>\n",
       "      <td>0</td>\n",
       "      <td>0</td>\n",
       "      <td>0</td>\n",
       "      <td>0</td>\n",
       "      <td>0</td>\n",
       "      <td>5</td>\n",
       "    </tr>\n",
       "  </tbody>\n",
       "</table>\n",
       "<p>5 rows × 55 columns</p>\n",
       "</div>"
      ],
      "text/plain": [
       "   Elevation  Aspect  Slope  Horizontal_Distance_To_Hydrology  \\\n",
       "0       2596      51      3                               258   \n",
       "1       2590      56      2                               212   \n",
       "2       2804     139      9                               268   \n",
       "3       2785     155     18                               242   \n",
       "4       2595      45      2                               153   \n",
       "\n",
       "   Vertical_Distance_To_Hydrology  Horizontal_Distance_To_Roadways  \\\n",
       "0                               0                              510   \n",
       "1                              -6                              390   \n",
       "2                              65                             3180   \n",
       "3                             118                             3090   \n",
       "4                              -1                              391   \n",
       "\n",
       "   Hillshade_9am  Hillshade_Noon  Hillshade_3pm  \\\n",
       "0            221             232            148   \n",
       "1            220             235            151   \n",
       "2            234             238            135   \n",
       "3            238             238            122   \n",
       "4            220             234            150   \n",
       "\n",
       "   Horizontal_Distance_To_Fire_Points     ...      Soil_Type_32  Soil_Type_33  \\\n",
       "0                                6279     ...                 0             0   \n",
       "1                                6225     ...                 0             0   \n",
       "2                                6121     ...                 0             0   \n",
       "3                                6211     ...                 0             0   \n",
       "4                                6172     ...                 0             0   \n",
       "\n",
       "   Soil_Type_34  Soil_Type_35  Soil_Type_36  Soil_Type_37  Soil_Type_38  \\\n",
       "0             0             0             0             0             0   \n",
       "1             0             0             0             0             0   \n",
       "2             0             0             0             0             0   \n",
       "3             0             0             0             0             0   \n",
       "4             0             0             0             0             0   \n",
       "\n",
       "   Soil_Type_39  Soil_Type_40  Cover_Type  \n",
       "0             0             0           5  \n",
       "1             0             0           5  \n",
       "2             0             0           2  \n",
       "3             0             0           2  \n",
       "4             0             0           5  \n",
       "\n",
       "[5 rows x 55 columns]"
      ]
     },
     "execution_count": 85,
     "metadata": {},
     "output_type": "execute_result"
    }
   ],
   "source": [
    "soil.head()"
   ]
  },
  {
   "cell_type": "code",
   "execution_count": 86,
   "metadata": {
    "scrolled": true
   },
   "outputs": [
    {
     "name": "stdout",
     "output_type": "stream",
     "text": [
      "Elevation                             int64\n",
      "Aspect                                int64\n",
      "Slope                                 int64\n",
      "Horizontal_Distance_To_Hydrology      int64\n",
      "Vertical_Distance_To_Hydrology        int64\n",
      "Horizontal_Distance_To_Roadways       int64\n",
      "Hillshade_9am                         int64\n",
      "Hillshade_Noon                        int64\n",
      "Hillshade_3pm                         int64\n",
      "Horizontal_Distance_To_Fire_Points    int64\n",
      "Wilderness_Area_01                    int64\n",
      "Wilderness_Area_02                    int64\n",
      "Wilderness_Area_03                    int64\n",
      "Wilderness_Area_04                    int64\n",
      "Soil_Type_01                          int64\n",
      "Soil_Type_02                          int64\n",
      "Soil_Type_03                          int64\n",
      "Soil_Type_04                          int64\n",
      "Soil_Type_05                          int64\n",
      "Soil_Type_06                          int64\n",
      "Soil_Type_07                          int64\n",
      "Soil_Type_08                          int64\n",
      "Soil_Type_09                          int64\n",
      "Soil_Type_10                          int64\n",
      "Soil_Type_11                          int64\n",
      "Soil_Type_12                          int64\n",
      "Soil_Type_13                          int64\n",
      "Soil_Type_14                          int64\n",
      "Soil_Type_15                          int64\n",
      "Soil_Type_16                          int64\n",
      "Soil_Type_17                          int64\n",
      "Soil_Type_18                          int64\n",
      "Soil_Type_19                          int64\n",
      "Soil_Type_20                          int64\n",
      "Soil_Type_21                          int64\n",
      "Soil_Type_22                          int64\n",
      "Soil_Type_23                          int64\n",
      "Soil_Type_24                          int64\n",
      "Soil_Type_25                          int64\n",
      "Soil_Type_26                          int64\n",
      "Soil_Type_27                          int64\n",
      "Soil_Type_28                          int64\n",
      "Soil_Type_29                          int64\n",
      "Soil_Type_30                          int64\n",
      "Soil_Type_31                          int64\n",
      "Soil_Type_32                          int64\n",
      "Soil_Type_33                          int64\n",
      "Soil_Type_34                          int64\n",
      "Soil_Type_35                          int64\n",
      "Soil_Type_36                          int64\n",
      "Soil_Type_37                          int64\n",
      "Soil_Type_38                          int64\n",
      "Soil_Type_39                          int64\n",
      "Soil_Type_40                          int64\n",
      "Cover_Type                            int64\n",
      "dtype: object\n"
     ]
    }
   ],
   "source": [
    "print (soil.dtypes)\n",
    "## ALL IMPORTED DATATYPES ARE NUMERICAL. THEREFORE NO WHITESPACES/BROKEN STRINGS."
   ]
  },
  {
   "cell_type": "code",
   "execution_count": 87,
   "metadata": {
    "scrolled": false
   },
   "outputs": [
    {
     "name": "stdout",
     "output_type": "stream",
     "text": [
      "<class 'pandas.core.frame.DataFrame'>\n",
      "RangeIndex: 581012 entries, 0 to 581011\n",
      "Data columns (total 55 columns):\n",
      "Elevation                             581012 non-null int64\n",
      "Aspect                                581012 non-null int64\n",
      "Slope                                 581012 non-null int64\n",
      "Horizontal_Distance_To_Hydrology      581012 non-null int64\n",
      "Vertical_Distance_To_Hydrology        581012 non-null int64\n",
      "Horizontal_Distance_To_Roadways       581012 non-null int64\n",
      "Hillshade_9am                         581012 non-null int64\n",
      "Hillshade_Noon                        581012 non-null int64\n",
      "Hillshade_3pm                         581012 non-null int64\n",
      "Horizontal_Distance_To_Fire_Points    581012 non-null int64\n",
      "Wilderness_Area_01                    581012 non-null category\n",
      "Wilderness_Area_02                    581012 non-null category\n",
      "Wilderness_Area_03                    581012 non-null category\n",
      "Wilderness_Area_04                    581012 non-null category\n",
      "Soil_Type_01                          581012 non-null category\n",
      "Soil_Type_02                          581012 non-null category\n",
      "Soil_Type_03                          581012 non-null category\n",
      "Soil_Type_04                          581012 non-null category\n",
      "Soil_Type_05                          581012 non-null category\n",
      "Soil_Type_06                          581012 non-null category\n",
      "Soil_Type_07                          581012 non-null category\n",
      "Soil_Type_08                          581012 non-null category\n",
      "Soil_Type_09                          581012 non-null category\n",
      "Soil_Type_10                          581012 non-null category\n",
      "Soil_Type_11                          581012 non-null category\n",
      "Soil_Type_12                          581012 non-null category\n",
      "Soil_Type_13                          581012 non-null category\n",
      "Soil_Type_14                          581012 non-null category\n",
      "Soil_Type_15                          581012 non-null category\n",
      "Soil_Type_16                          581012 non-null category\n",
      "Soil_Type_17                          581012 non-null category\n",
      "Soil_Type_18                          581012 non-null category\n",
      "Soil_Type_19                          581012 non-null category\n",
      "Soil_Type_20                          581012 non-null category\n",
      "Soil_Type_21                          581012 non-null category\n",
      "Soil_Type_22                          581012 non-null category\n",
      "Soil_Type_23                          581012 non-null category\n",
      "Soil_Type_24                          581012 non-null category\n",
      "Soil_Type_25                          581012 non-null category\n",
      "Soil_Type_26                          581012 non-null category\n",
      "Soil_Type_27                          581012 non-null category\n",
      "Soil_Type_28                          581012 non-null category\n",
      "Soil_Type_29                          581012 non-null category\n",
      "Soil_Type_30                          581012 non-null category\n",
      "Soil_Type_31                          581012 non-null category\n",
      "Soil_Type_32                          581012 non-null category\n",
      "Soil_Type_33                          581012 non-null category\n",
      "Soil_Type_34                          581012 non-null category\n",
      "Soil_Type_35                          581012 non-null category\n",
      "Soil_Type_36                          581012 non-null category\n",
      "Soil_Type_37                          581012 non-null category\n",
      "Soil_Type_38                          581012 non-null category\n",
      "Soil_Type_39                          581012 non-null category\n",
      "Soil_Type_40                          581012 non-null category\n",
      "Cover_Type                            581012 non-null category\n",
      "dtypes: category(45), int64(10)\n",
      "memory usage: 69.3 MB\n"
     ]
    }
   ],
   "source": [
    "## CONVERT WILDERNESS TYPE, SOIL TYPE AND COVER TYPE TO CATEGORICAL DATA\n",
    "for pos in range(10,55):\n",
    "    soil[soil.columns[pos]] = soil[soil.columns[pos]].astype('category')\n",
    "soil.info()"
   ]
  },
  {
   "cell_type": "code",
   "execution_count": 88,
   "metadata": {
    "scrolled": true
   },
   "outputs": [
    {
     "name": "stdout",
     "output_type": "stream",
     "text": [
      "MISSING VALUES : False\n"
     ]
    }
   ],
   "source": [
    "## CHECK IF THERE ARE ANY MISSING VALUES\n",
    "print ('MISSING VALUES : ' + str(soil.isnull().values.any()))"
   ]
  },
  {
   "cell_type": "code",
   "execution_count": 89,
   "metadata": {
    "scrolled": true
   },
   "outputs": [],
   "source": [
    "## SANITY CHECKS FOR NUMERICAL COLUMNS"
   ]
  },
  {
   "cell_type": "code",
   "execution_count": 90,
   "metadata": {
    "scrolled": true
   },
   "outputs": [
    {
     "name": "stdout",
     "output_type": "stream",
     "text": [
      "Maximum value for Elevation = 3858 \n",
      "\n",
      "Minimum value for Elevation = 1859 \n",
      "\n",
      "Maximum value for Aspect = 360 \n",
      "\n",
      "Minimum value for Aspect = 0 \n",
      "\n",
      "Maximum value for Slope = 66 \n",
      "\n",
      "Minimum value for Slope = 0 \n",
      "\n",
      "Maximum value for Horizontal_Distance_To_Hydrology = 1397 \n",
      "\n",
      "Minimum value for Horizontal_Distance_To_Hydrology = 0 \n",
      "\n",
      "Maximum value for Vertical_Distance_To_Hydrology = 601 \n",
      "\n",
      "Minimum value for Vertical_Distance_To_Hydrology = -173 \n",
      "\n",
      "Maximum value for Horizontal_Distance_To_Roadways = 7117 \n",
      "\n",
      "Minimum value for Horizontal_Distance_To_Roadways = 0 \n",
      "\n",
      "Maximum value for Hillshade_9am = 254 \n",
      "\n",
      "Minimum value for Hillshade_9am = 0 \n",
      "\n",
      "Maximum value for Hillshade_Noon = 254 \n",
      "\n",
      "Minimum value for Hillshade_Noon = 0 \n",
      "\n",
      "Maximum value for Hillshade_3pm = 254 \n",
      "\n",
      "Minimum value for Hillshade_3pm = 0 \n",
      "\n",
      "Maximum value for Horizontal_Distance_To_Fire_Points = 7173 \n",
      "\n",
      "Minimum value for Horizontal_Distance_To_Fire_Points = 0 \n",
      "\n"
     ]
    }
   ],
   "source": [
    "for col in soil.columns:\n",
    "    if (soil[col].dtype.name == 'int64'):\n",
    "        print ('Maximum value for',soil[col].name,'=',soil[col].max(axis=0), '\\n')\n",
    "        print ('Minimum value for',soil[col].name,'=',soil[col].min(axis=0), '\\n')"
   ]
  },
  {
   "cell_type": "code",
   "execution_count": 91,
   "metadata": {
    "scrolled": true
   },
   "outputs": [],
   "source": [
    "## SANITY CHECKS FOR CATEGORICAL COLUMNS"
   ]
  },
  {
   "cell_type": "code",
   "execution_count": 92,
   "metadata": {
    "scrolled": false
   },
   "outputs": [
    {
     "name": "stdout",
     "output_type": "stream",
     "text": [
      "0    320216\n",
      "1    260796\n",
      "Name: Wilderness_Area_01, dtype: int64 \n",
      "\n",
      "0    551128\n",
      "1     29884\n",
      "Name: Wilderness_Area_02, dtype: int64 \n",
      "\n",
      "0    327648\n",
      "1    253364\n",
      "Name: Wilderness_Area_03, dtype: int64 \n",
      "\n",
      "0    544044\n",
      "1     36968\n",
      "Name: Wilderness_Area_04, dtype: int64 \n",
      "\n",
      "0    577981\n",
      "1      3031\n",
      "Name: Soil_Type_01, dtype: int64 \n",
      "\n",
      "0    573487\n",
      "1      7525\n",
      "Name: Soil_Type_02, dtype: int64 \n",
      "\n",
      "0    576189\n",
      "1      4823\n",
      "Name: Soil_Type_03, dtype: int64 \n",
      "\n",
      "0    568616\n",
      "1     12396\n",
      "Name: Soil_Type_04, dtype: int64 \n",
      "\n",
      "0    579415\n",
      "1      1597\n",
      "Name: Soil_Type_05, dtype: int64 \n",
      "\n",
      "0    574437\n",
      "1      6575\n",
      "Name: Soil_Type_06, dtype: int64 \n",
      "\n",
      "0    580907\n",
      "1       105\n",
      "Name: Soil_Type_07, dtype: int64 \n",
      "\n",
      "0    580833\n",
      "1       179\n",
      "Name: Soil_Type_08, dtype: int64 \n",
      "\n",
      "0    579865\n",
      "1      1147\n",
      "Name: Soil_Type_09, dtype: int64 \n",
      "\n",
      "0    548378\n",
      "1     32634\n",
      "Name: Soil_Type_10, dtype: int64 \n",
      "\n",
      "0    568602\n",
      "1     12410\n",
      "Name: Soil_Type_11, dtype: int64 \n",
      "\n",
      "0    551041\n",
      "1     29971\n",
      "Name: Soil_Type_12, dtype: int64 \n",
      "\n",
      "0    563581\n",
      "1     17431\n",
      "Name: Soil_Type_13, dtype: int64 \n",
      "\n",
      "0    580413\n",
      "1       599\n",
      "Name: Soil_Type_14, dtype: int64 \n",
      "\n",
      "0    581009\n",
      "1         3\n",
      "Name: Soil_Type_15, dtype: int64 \n",
      "\n",
      "0    578167\n",
      "1      2845\n",
      "Name: Soil_Type_16, dtype: int64 \n",
      "\n",
      "0    577590\n",
      "1      3422\n",
      "Name: Soil_Type_17, dtype: int64 \n",
      "\n",
      "0    579113\n",
      "1      1899\n",
      "Name: Soil_Type_18, dtype: int64 \n",
      "\n",
      "0    576991\n",
      "1      4021\n",
      "Name: Soil_Type_19, dtype: int64 \n",
      "\n",
      "0    571753\n",
      "1      9259\n",
      "Name: Soil_Type_20, dtype: int64 \n",
      "\n",
      "0    580174\n",
      "1       838\n",
      "Name: Soil_Type_21, dtype: int64 \n",
      "\n",
      "0    547639\n",
      "1     33373\n",
      "Name: Soil_Type_22, dtype: int64 \n",
      "\n",
      "0    523260\n",
      "1     57752\n",
      "Name: Soil_Type_23, dtype: int64 \n",
      "\n",
      "0    559734\n",
      "1     21278\n",
      "Name: Soil_Type_24, dtype: int64 \n",
      "\n",
      "0    580538\n",
      "1       474\n",
      "Name: Soil_Type_25, dtype: int64 \n",
      "\n",
      "0    578423\n",
      "1      2589\n",
      "Name: Soil_Type_26, dtype: int64 \n",
      "\n",
      "0    579926\n",
      "1      1086\n",
      "Name: Soil_Type_27, dtype: int64 \n",
      "\n",
      "0    580066\n",
      "1       946\n",
      "Name: Soil_Type_28, dtype: int64 \n",
      "\n",
      "0    465765\n",
      "1    115247\n",
      "Name: Soil_Type_29, dtype: int64 \n",
      "\n",
      "0    550842\n",
      "1     30170\n",
      "Name: Soil_Type_30, dtype: int64 \n",
      "\n",
      "0    555346\n",
      "1     25666\n",
      "Name: Soil_Type_31, dtype: int64 \n",
      "\n",
      "0    528493\n",
      "1     52519\n",
      "Name: Soil_Type_32, dtype: int64 \n",
      "\n",
      "0    535858\n",
      "1     45154\n",
      "Name: Soil_Type_33, dtype: int64 \n",
      "\n",
      "0    579401\n",
      "1      1611\n",
      "Name: Soil_Type_34, dtype: int64 \n",
      "\n",
      "0    579121\n",
      "1      1891\n",
      "Name: Soil_Type_35, dtype: int64 \n",
      "\n",
      "0    580893\n",
      "1       119\n",
      "Name: Soil_Type_36, dtype: int64 \n",
      "\n",
      "0    580714\n",
      "1       298\n",
      "Name: Soil_Type_37, dtype: int64 \n",
      "\n",
      "0    565439\n",
      "1     15573\n",
      "Name: Soil_Type_38, dtype: int64 \n",
      "\n",
      "0    567206\n",
      "1     13806\n",
      "Name: Soil_Type_39, dtype: int64 \n",
      "\n",
      "0    572262\n",
      "1      8750\n",
      "Name: Soil_Type_40, dtype: int64 \n",
      "\n",
      "2    283301\n",
      "1    211840\n",
      "3     35754\n",
      "7     20510\n",
      "6     17367\n",
      "5      9493\n",
      "4      2747\n",
      "Name: Cover_Type, dtype: int64 \n",
      "\n"
     ]
    }
   ],
   "source": [
    "for col in soil.columns:\n",
    "    if (soil[col].dtype.name == 'category'):\n",
    "        print (soil[col].value_counts(), '\\n')"
   ]
  },
  {
   "cell_type": "code",
   "execution_count": 93,
   "metadata": {},
   "outputs": [
    {
     "name": "stdout",
     "output_type": "stream",
     "text": [
      "No duplicate records found\n"
     ]
    }
   ],
   "source": [
    "## I WANT TO PERFORM A SANITY CHECK FOR WILDERNESS AREAS....CAN A POINT HAVE MORE THAN 1 WILDERNESS AREA TYPES?\n",
    "## IF NOT CAN WE ADD A NEW COLUMN (LIKE THE COVERTYPE COLUMN) WHERE THE COLUMN JUST RECORDS WHICH WILDERNESS AREA\n",
    "\n",
    "for pos in range(10,14):\n",
    "    soil[soil.columns[pos]] = soil[soil.columns[pos]].astype('int64')\n",
    "\n",
    "soil['Wilderness_Type'] = soil['Wilderness_Area_01'] + soil['Wilderness_Area_02'] + soil['Wilderness_Area_03'] + soil['Wilderness_Area_04']\n",
    "\n",
    "dup_rec = False\n",
    "for i in range(soil['Wilderness_Type'].count()):\n",
    "    if soil.at[i, 'Wilderness_Type'] != 1:\n",
    "        dup_rec = True\n",
    "        print ('Multiple Wilderness Areas detected in same row. Invalid record.')\n",
    "        break\n",
    "\n",
    "if dup_rec == False:\n",
    "    print('No duplicate records found')    "
   ]
  },
  {
   "cell_type": "code",
   "execution_count": 94,
   "metadata": {},
   "outputs": [],
   "source": [
    "for i in range(soil['Wilderness_Type'].count()):\n",
    "    if soil.at[i, 'Wilderness_Area_01'] == 1:\n",
    "        soil.at[i, 'Wilderness_Type'] = 1\n",
    "    elif soil.at[i, 'Wilderness_Area_02'] == 1:\n",
    "        soil.at[i, 'Wilderness_Type'] = 2\n",
    "    elif soil.at[i, 'Wilderness_Area_03'] == 1:\n",
    "        soil.at[i, 'Wilderness_Type'] = 3\n",
    "    else: \n",
    "        soil.at[i, 'Wilderness_Type'] = 4\n"
   ]
  },
  {
   "cell_type": "code",
   "execution_count": 95,
   "metadata": {},
   "outputs": [
    {
     "data": {
      "text/plain": [
       "1    260796\n",
       "3    253364\n",
       "4     36968\n",
       "2     29884\n",
       "Name: Wilderness_Type, dtype: int64"
      ]
     },
     "execution_count": 95,
     "metadata": {},
     "output_type": "execute_result"
    }
   ],
   "source": [
    "soil['Wilderness_Type'] = soil['Wilderness_Type'].astype('category')\n",
    "soil['Wilderness_Type'].value_counts()"
   ]
  },
  {
   "cell_type": "code",
   "execution_count": 96,
   "metadata": {},
   "outputs": [
    {
     "name": "stdout",
     "output_type": "stream",
     "text": [
      "<class 'pandas.core.frame.DataFrame'>\n",
      "RangeIndex: 581012 entries, 0 to 581011\n",
      "Data columns (total 56 columns):\n",
      "Elevation                             581012 non-null int64\n",
      "Aspect                                581012 non-null int64\n",
      "Slope                                 581012 non-null int64\n",
      "Horizontal_Distance_To_Hydrology      581012 non-null int64\n",
      "Vertical_Distance_To_Hydrology        581012 non-null int64\n",
      "Horizontal_Distance_To_Roadways       581012 non-null int64\n",
      "Hillshade_9am                         581012 non-null int64\n",
      "Hillshade_Noon                        581012 non-null int64\n",
      "Hillshade_3pm                         581012 non-null int64\n",
      "Horizontal_Distance_To_Fire_Points    581012 non-null int64\n",
      "Wilderness_Area_01                    581012 non-null int64\n",
      "Wilderness_Area_02                    581012 non-null int64\n",
      "Wilderness_Area_03                    581012 non-null int64\n",
      "Wilderness_Area_04                    581012 non-null int64\n",
      "Soil_Type_01                          581012 non-null category\n",
      "Soil_Type_02                          581012 non-null category\n",
      "Soil_Type_03                          581012 non-null category\n",
      "Soil_Type_04                          581012 non-null category\n",
      "Soil_Type_05                          581012 non-null category\n",
      "Soil_Type_06                          581012 non-null category\n",
      "Soil_Type_07                          581012 non-null category\n",
      "Soil_Type_08                          581012 non-null category\n",
      "Soil_Type_09                          581012 non-null category\n",
      "Soil_Type_10                          581012 non-null category\n",
      "Soil_Type_11                          581012 non-null category\n",
      "Soil_Type_12                          581012 non-null category\n",
      "Soil_Type_13                          581012 non-null category\n",
      "Soil_Type_14                          581012 non-null category\n",
      "Soil_Type_15                          581012 non-null category\n",
      "Soil_Type_16                          581012 non-null category\n",
      "Soil_Type_17                          581012 non-null category\n",
      "Soil_Type_18                          581012 non-null category\n",
      "Soil_Type_19                          581012 non-null category\n",
      "Soil_Type_20                          581012 non-null category\n",
      "Soil_Type_21                          581012 non-null category\n",
      "Soil_Type_22                          581012 non-null category\n",
      "Soil_Type_23                          581012 non-null category\n",
      "Soil_Type_24                          581012 non-null category\n",
      "Soil_Type_25                          581012 non-null category\n",
      "Soil_Type_26                          581012 non-null category\n",
      "Soil_Type_27                          581012 non-null category\n",
      "Soil_Type_28                          581012 non-null category\n",
      "Soil_Type_29                          581012 non-null category\n",
      "Soil_Type_30                          581012 non-null category\n",
      "Soil_Type_31                          581012 non-null category\n",
      "Soil_Type_32                          581012 non-null category\n",
      "Soil_Type_33                          581012 non-null category\n",
      "Soil_Type_34                          581012 non-null category\n",
      "Soil_Type_35                          581012 non-null category\n",
      "Soil_Type_36                          581012 non-null category\n",
      "Soil_Type_37                          581012 non-null category\n",
      "Soil_Type_38                          581012 non-null category\n",
      "Soil_Type_39                          581012 non-null category\n",
      "Soil_Type_40                          581012 non-null category\n",
      "Cover_Type                            581012 non-null category\n",
      "Wilderness_Type                       581012 non-null category\n",
      "dtypes: category(42), int64(14)\n",
      "memory usage: 85.3 MB\n"
     ]
    }
   ],
   "source": [
    "soil.info()"
   ]
  },
  {
   "cell_type": "code",
   "execution_count": 99,
   "metadata": {},
   "outputs": [],
   "source": [
    "for pos in range(14,54):\n",
    "    soil[soil.columns[pos]] = soil[soil.columns[pos]].astype('int64')\n",
    "\n",
    "soil['Soil_Type'] = 7\n",
    "    "
   ]
  },
  {
   "cell_type": "code",
   "execution_count": 101,
   "metadata": {},
   "outputs": [
    {
     "name": "stdout",
     "output_type": "stream",
     "text": [
      "0    577981\n",
      "1      3031\n",
      "Name: Soil_Type_01, dtype: int64\n",
      "0    573487\n",
      "1      7525\n",
      "Name: Soil_Type_02, dtype: int64\n",
      "0    576189\n",
      "1      4823\n",
      "Name: Soil_Type_03, dtype: int64\n",
      "0    568616\n",
      "1     12396\n",
      "Name: Soil_Type_04, dtype: int64\n",
      "0    579415\n",
      "1      1597\n",
      "Name: Soil_Type_05, dtype: int64\n",
      "0    574437\n",
      "1      6575\n",
      "Name: Soil_Type_06, dtype: int64\n",
      "0    580907\n",
      "1       105\n",
      "Name: Soil_Type_07, dtype: int64\n",
      "0    580833\n",
      "1       179\n",
      "Name: Soil_Type_08, dtype: int64\n",
      "0    579865\n",
      "1      1147\n",
      "Name: Soil_Type_09, dtype: int64\n",
      "0    548378\n",
      "1     32634\n",
      "Name: Soil_Type_10, dtype: int64\n",
      "0    568602\n",
      "1     12410\n",
      "Name: Soil_Type_11, dtype: int64\n",
      "0    551041\n",
      "1     29971\n",
      "Name: Soil_Type_12, dtype: int64\n",
      "0    563581\n",
      "1     17431\n",
      "Name: Soil_Type_13, dtype: int64\n",
      "0    580413\n",
      "1       599\n",
      "Name: Soil_Type_14, dtype: int64\n",
      "0    581009\n",
      "1         3\n",
      "Name: Soil_Type_15, dtype: int64\n",
      "0    578167\n",
      "1      2845\n",
      "Name: Soil_Type_16, dtype: int64\n",
      "0    577590\n",
      "1      3422\n",
      "Name: Soil_Type_17, dtype: int64\n",
      "0    579113\n",
      "1      1899\n",
      "Name: Soil_Type_18, dtype: int64\n",
      "0    576991\n",
      "1      4021\n",
      "Name: Soil_Type_19, dtype: int64\n",
      "0    571753\n",
      "1      9259\n",
      "Name: Soil_Type_20, dtype: int64\n",
      "0    580174\n",
      "1       838\n",
      "Name: Soil_Type_21, dtype: int64\n",
      "0    547639\n",
      "1     33373\n",
      "Name: Soil_Type_22, dtype: int64\n",
      "0    523260\n",
      "1     57752\n",
      "Name: Soil_Type_23, dtype: int64\n",
      "0    559734\n",
      "1     21278\n",
      "Name: Soil_Type_24, dtype: int64\n",
      "0    580538\n",
      "1       474\n",
      "Name: Soil_Type_25, dtype: int64\n",
      "0    578423\n",
      "1      2589\n",
      "Name: Soil_Type_26, dtype: int64\n",
      "0    579926\n",
      "1      1086\n",
      "Name: Soil_Type_27, dtype: int64\n",
      "0    580066\n",
      "1       946\n",
      "Name: Soil_Type_28, dtype: int64\n",
      "0    465765\n",
      "1    115247\n",
      "Name: Soil_Type_29, dtype: int64\n",
      "0    550842\n",
      "1     30170\n",
      "Name: Soil_Type_30, dtype: int64\n",
      "0    555346\n",
      "1     25666\n",
      "Name: Soil_Type_31, dtype: int64\n",
      "0    528493\n",
      "1     52519\n",
      "Name: Soil_Type_32, dtype: int64\n",
      "0    535858\n",
      "1     45154\n",
      "Name: Soil_Type_33, dtype: int64\n",
      "0    579401\n",
      "1      1611\n",
      "Name: Soil_Type_34, dtype: int64\n",
      "0    579121\n",
      "1      1891\n",
      "Name: Soil_Type_35, dtype: int64\n",
      "0    580893\n",
      "1       119\n",
      "Name: Soil_Type_36, dtype: int64\n",
      "0    580714\n",
      "1       298\n",
      "Name: Soil_Type_37, dtype: int64\n",
      "0    565439\n",
      "1     15573\n",
      "Name: Soil_Type_38, dtype: int64\n",
      "0    567206\n",
      "1     13806\n",
      "Name: Soil_Type_39, dtype: int64\n",
      "0    572262\n",
      "1      8750\n",
      "Name: Soil_Type_40, dtype: int64\n"
     ]
    }
   ],
   "source": [
    "for pos in range(14,54):\n",
    "    print (soil[soil.columns[pos]].value_counts())"
   ]
  },
  {
   "cell_type": "code",
   "execution_count": 102,
   "metadata": {},
   "outputs": [
    {
     "name": "stdout",
     "output_type": "stream",
     "text": [
      "No duplicate records found\n"
     ]
    }
   ],
   "source": [
    "dup_rec = False\n",
    "for i in range(soil['Soil_Type'].count()):\n",
    "    if soil.at[i, 'Soil_Type'] != 7:\n",
    "        dup_rec = True\n",
    "        print ('Multiple Soil Types detected in same row. Invalid record.')\n",
    "        break\n",
    "\n",
    "if dup_rec == False:\n",
    "    print('No duplicate records found')    "
   ]
  },
  {
   "cell_type": "code",
   "execution_count": 109,
   "metadata": {},
   "outputs": [],
   "source": [
    "soil['Soil_Type'] = 7\n",
    "\n",
    "type_5 = [20,21]\n",
    "type_2 = [22,35,36]\n",
    "type_1 = [27,28,29,30,32,33,34,35,36]\n",
    "\n",
    "for i in range(soil['Soil_Type'].count()):\n",
    "    for j in type_5:\n",
    "        if soil.iat[i, j] == 1:\n",
    "            soil.iat[i, 56] = 5\n",
    "    for j in type_2:\n",
    "        if soil.iat[i, j] == 1:\n",
    "            soil.iat[i, 56] = 2  \n",
    "    for j in type_1:\n",
    "        if soil.iat[i, j] == 1:\n",
    "            soil.iat[i, 56] = 1"
   ]
  },
  {
   "cell_type": "code",
   "execution_count": 110,
   "metadata": {},
   "outputs": [
    {
     "data": {
      "text/plain": [
       "7    467469\n",
       "1    112112\n",
       "2      1147\n",
       "5       284\n",
       "Name: Soil_Type, dtype: int64"
      ]
     },
     "execution_count": 110,
     "metadata": {},
     "output_type": "execute_result"
    }
   ],
   "source": [
    "soil['Soil_Type'].value_counts()"
   ]
  },
  {
   "cell_type": "markdown",
   "metadata": {},
   "source": [
    "# PART 2 - DATA EXPLORATION "
   ]
  },
  {
   "cell_type": "markdown",
   "metadata": {},
   "source": [
    "### A - EXPLORE EACH COLUMN"
   ]
  },
  {
   "cell_type": "markdown",
   "metadata": {},
   "source": [
    "#### USING APPROPRIATE DESCRIPTIVE STATISTICS"
   ]
  },
  {
   "cell_type": "code",
   "execution_count": null,
   "metadata": {
    "scrolled": false
   },
   "outputs": [],
   "source": [
    "# DESCRIPTIVE STATISTICS FOR NUMERICAL VALUES\n",
    "soil.describe()"
   ]
  },
  {
   "cell_type": "code",
   "execution_count": null,
   "metadata": {
    "scrolled": true
   },
   "outputs": [],
   "source": [
    "# 'DESCRIPTIVE STATISTICS' NOT POSSIBLE FOR CATEGORICAL THEREFORE AN EXPLORATION OF PROPORTIONALITY EXPLORED"
   ]
  },
  {
   "cell_type": "code",
   "execution_count": null,
   "metadata": {
    "scrolled": false
   },
   "outputs": [],
   "source": [
    "for col in soil.columns:\n",
    "    if (soil[col].dtype.name == 'category'):\n",
    "        print soil[col].value_counts(normalize=True), '\\n'"
   ]
  },
  {
   "cell_type": "code",
   "execution_count": null,
   "metadata": {
    "scrolled": true
   },
   "outputs": [],
   "source": []
  },
  {
   "cell_type": "code",
   "execution_count": null,
   "metadata": {
    "scrolled": true
   },
   "outputs": [],
   "source": []
  },
  {
   "cell_type": "markdown",
   "metadata": {},
   "source": [
    "#### PLOT EACH COLUMN IN INDIVIDUAL GRAPHS"
   ]
  },
  {
   "cell_type": "code",
   "execution_count": null,
   "metadata": {
    "scrolled": false
   },
   "outputs": [],
   "source": [
    "## BOXPLOT FOR NUMERICAL DATA EXPLORATION\n",
    "\n",
    "for col in soil.columns:\n",
    "\n",
    "    if (soil[col].dtype.name == 'int64'):\n",
    "        title = 'Box plot of '+ col\n",
    "        plt.figure(col)\n",
    "        soil.boxplot(column=col)\n",
    "        plt.title(title)\n",
    "        plt.ylabel(col)       "
   ]
  },
  {
   "cell_type": "code",
   "execution_count": null,
   "metadata": {
    "scrolled": false
   },
   "outputs": [],
   "source": [
    "## HISTOGRAMS FOR NUMERICAL DATA EXPLORATION\n",
    "\n",
    "for col in soil.columns:\n",
    "    if (soil[col].dtype.name == 'int64'):\n",
    "        plt.figure(figsize=(5, 5))\n",
    "        soil[col].plot(kind='hist', bins=50)\n",
    "        plt.title(col)\n",
    "        plt.xlabel(col)\n",
    "        axes = plt.gca()\n",
    "        filename = str(soil[col].name)+\"_distribution\"\n",
    "        plt.savefig(filename)\n",
    "        plt.show()\n"
   ]
  },
  {
   "cell_type": "code",
   "execution_count": null,
   "metadata": {
    "scrolled": true
   },
   "outputs": [],
   "source": [
    "# TEMPORARILY CONVERT WILDERNESS AREA TO NUMERIC TO CREATE PIE CHART\n",
    "\n",
    "soil_copy = soil.copy(deep=True)\n",
    "\n",
    "columns = []\n",
    "values = []\n",
    "\n",
    "for pos in range(10,14):\n",
    "    soil_copy[soil_copy.columns[pos]] = soil_copy[soil_copy.columns[pos]].astype('int64')\n",
    "    columns.append(soil_copy.columns[pos])\n",
    "    values.append(soil_copy[soil_copy.columns[pos]].sum())\n",
    "    \n",
    "plt.pie(values, autopct='%1.1f%%',shadow=True, labels=columns, startangle=90)\n",
    "plt.axis('equal')\n",
    "plt.title('Wilderness Area')\n",
    "plt.tight_layout()\n",
    "plt.show()"
   ]
  },
  {
   "cell_type": "code",
   "execution_count": null,
   "metadata": {
    "scrolled": true
   },
   "outputs": [],
   "source": [
    "# TEMPORARILY CONVERT SOIL TYPE TO NUMERIC TO CREATE BAR CHART\n",
    "\n",
    "soil_copy = soil.copy(deep=True)\n",
    "\n",
    "columns = []\n",
    "values = []\n",
    "\n",
    "i = 1 \n",
    "\n",
    "for pos in range(14,54):\n",
    "    soil_copy[soil_copy.columns[pos]] = soil_copy[soil_copy.columns[pos]].astype('int64')\n",
    "    columns.append(i)\n",
    "    values.append(np.log(soil_copy[soil_copy.columns[pos]].sum()))\n",
    "    i+=1\n",
    "    \n",
    "plt.bar(columns, values)\n",
    "fig = plt.gcf()\n",
    "fig.set_size_inches(15,5)\n",
    "plt.title(\"Soil Type\")\n",
    "plt.xlabel('Soil Type')\n",
    "plt.ylabel('log(Frequency)')\n",
    "plt.xticks(columns)\n",
    "plt.show()"
   ]
  },
  {
   "cell_type": "code",
   "execution_count": null,
   "metadata": {
    "scrolled": true
   },
   "outputs": [],
   "source": [
    "# PIE CHART OF COVER TYPE\n",
    "\n",
    "soil['Cover_Type'].value_counts().plot(kind='pie',labels=None, autopct='%.2f', pctdistance=1.2)\n",
    "plt.legend(labels = soil['Cover_Type'].value_counts().index, loc=\"right\", bbox_to_anchor=(1.2, 0.5))\n",
    "plt.axis('equal')\n",
    "plt.tight_layout()\n",
    "plt.show()"
   ]
  },
  {
   "cell_type": "markdown",
   "metadata": {},
   "source": [
    "### A - EXPLORE PAIRS OF ATTRIBUTES"
   ]
  },
  {
   "cell_type": "code",
   "execution_count": null,
   "metadata": {
    "scrolled": true
   },
   "outputs": [],
   "source": [
    "# Regression plot of Elevation vs Slope\n",
    "sns.regplot(x=\"Elevation\", y=\"Slope\", data=soil, marker='o', scatter_kws={'s':0.2}).set_title('Elevation vs Slope')"
   ]
  },
  {
   "cell_type": "code",
   "execution_count": null,
   "metadata": {
    "scrolled": true
   },
   "outputs": [],
   "source": [
    "# Cover Type vs Elevation\n",
    "sns.boxplot(x=soil[\"Cover_Type\"], y=soil[\"Elevation\"]).set_title('Cover Type vs Elevation')"
   ]
  },
  {
   "cell_type": "code",
   "execution_count": null,
   "metadata": {
    "scrolled": true
   },
   "outputs": [],
   "source": [
    "# Distribution of distances to hydrology\n",
    "\n",
    "p1=sns.kdeplot(soil['Horizontal_Distance_To_Hydrology'], shade=True, color=\"r\").set_title('Distribution of distances to hydrology')\n",
    "p1=sns.kdeplot(soil['Vertical_Distance_To_Hydrology'], shade=True, color=\"b\")"
   ]
  },
  {
   "cell_type": "code",
   "execution_count": null,
   "metadata": {
    "scrolled": true
   },
   "outputs": [],
   "source": [
    "# Aspect Ratio vs Hillshade Index at noon\n",
    "\n",
    "sns.regplot(x=\"Hillshade_Noon\", y=\"Aspect\", data=soil, marker='o', scatter_kws={'s':0.2}, fit_reg=False).set_title('Aspect Ratio vs Hillshade Index at noon')"
   ]
  },
  {
   "cell_type": "code",
   "execution_count": null,
   "metadata": {
    "scrolled": true
   },
   "outputs": [],
   "source": [
    "# Aspect Ratio vs Hillshade Index at 3pm\n",
    "\n",
    "sns.regplot(x=\"Hillshade_3pm\", y=\"Aspect\", data=soil, marker='o', scatter_kws={'s':0.2}, fit_reg=False).set_title('Aspect Ratio vs Hillshade Index at 3pm')"
   ]
  },
  {
   "cell_type": "code",
   "execution_count": null,
   "metadata": {
    "scrolled": false
   },
   "outputs": [],
   "source": [
    "# Aspect Ratio vs Hillshade Index at 3pm\n",
    "\n",
    "sns.regplot(x=\"Slope\", y=\"Aspect\", data=soil, marker='o', scatter_kws={'s':0.2}).set_title('Aspect Ratio vs Hillshade Index at 3pm')"
   ]
  },
  {
   "cell_type": "code",
   "execution_count": null,
   "metadata": {},
   "outputs": [],
   "source": [
    "soil.info()"
   ]
  },
  {
   "cell_type": "code",
   "execution_count": null,
   "metadata": {},
   "outputs": [],
   "source": [
    "# Vertical Distance to Hyrdology vs Elevation\n",
    "\n",
    "sns.regplot(x=\"Elevation\", y=\"Vertical_Distance_To_Hydrology\", data=soil, marker='o', scatter_kws={'s':0.2}, fit_reg=False).set_title('Elevation vs Vertical Distance To Land Water Feature (Hyrdology)')"
   ]
  },
  {
   "cell_type": "code",
   "execution_count": null,
   "metadata": {},
   "outputs": [],
   "source": [
    "# Vertical Distance to Hyrdology vs Elevation\n",
    "\n",
    "sns.regplot(x=\"Elevation\", y=\"Horizontal_Distance_To_Roadways\", data=soil, marker='o', scatter_kws={'s':0.2}, fit_reg=False).set_title('Elevation vs Horizontal Distance To Roadways')"
   ]
  },
  {
   "cell_type": "code",
   "execution_count": null,
   "metadata": {
    "scrolled": false
   },
   "outputs": [],
   "source": [
    "# All numerical variables grouped by the covertype class\n",
    "\n",
    "for col in soil.columns:\n",
    "    if (soil[col].dtype.name  == 'int64'):\n",
    "        plt.figure(col,figsize=(30, 30))\n",
    "        title=[\"A boxplot comparision of the elevation data by covertype\",\"A boxplot comparision of the aspect data by covertype\",\"A boxplot comparision of the slope data by covertype\",\"A boxplot comparision of the horizontal distance to land water by the covertype class\", \"A boxplot comparision of the vertical distance to land water by covertype\",\"A boxplot comparision of the horizontal distance to roadways by covertype\",\"A boxplot comparision of the hillshade at 9am by covertype\", \"A boxplot comparision of the hillshade at noon by covertype\",\"A boxplot comparision of the hillshade at 3pm by covertype\", \"A boxplot comparision of the horizontal distance to fire points by covertype\"]\n",
    "        index = soil.columns.get_loc(col)\n",
    "        soil.boxplot(column=col, by=\"Cover_Type\")\n",
    "        plt.title(title[index], fontsize=10)\n",
    "        plt.suptitle(\"\")\n",
    "        filetitle=\"boxplot_\"+str(soil[col].name)+\"_byCovertype.png\"\n",
    "        plt.savefig(filetitle)\n",
    "        plt.show()\n",
    "\n"
   ]
  },
  {
   "cell_type": "code",
   "execution_count": null,
   "metadata": {},
   "outputs": [],
   "source": []
  },
  {
   "cell_type": "code",
   "execution_count": null,
   "metadata": {
    "scrolled": false
   },
   "outputs": [],
   "source": [
    "# All numerical variables grouped wilderness area\n",
    "# Code not finished yet. I want to see breakdowns of each Wilderness area (maybe as boxplot?)\n",
    "\n",
    "for col in soil.columns:\n",
    "    if (soil[col].dtype.name  == 'int64'):\n",
    "        \n",
    "        ## WHEN RECORD IS IN WILDERNESS AREA 01\n",
    "        wilderness_area_01_mask = soil[\"Wilderness_Area_01\"]==1\n",
    "        print str(soil[col].name)+\" mean value when in Wilderness Area 1 is \"+str(soil[wilderness_area_01_mask][col].mean())\n",
    "\n",
    "        ## WHEN RECORD IS IN WILDERNESS AREA 02\n",
    "        wilderness_area_02_mask = soil[\"Wilderness_Area_02\"]==1\n",
    "        print str(soil[col].name)+\" mean value when in Wilderness Area 2 is \"+str(soil[wilderness_area_02_mask][col].mean())\n",
    "\n",
    "        \n",
    "        ## WHEN RECORD IS IN WILDERNESS AREA 03\n",
    "        wilderness_area_03_mask = soil[\"Wilderness_Area_03\"]==1\n",
    "        print str(soil[col].name)+\" mean value when in Wilderness Area 3 is \"+str(soil[wilderness_area_03_mask][col].mean())\n",
    "\n",
    "        \n",
    "        ## WHEN RECORD IS IN WILDERNESS AREA 04\n",
    "        wilderness_area_04_mask = soil[\"Wilderness_Area_04\"]==1\n",
    "        print str(soil[col].name)+\" mean value when in Wilderness Area 4 is \"+str(soil[wilderness_area_04_mask][col].mean())\n",
    "\n",
    "        #fig, axs = plt.subplots(4, 1)\n",
    "        #axs[0, 0].boxplot(soil[wilderness_area_01_mask][col])\n",
    "        #axs[0, 0].set_title('basic plot')\n",
    "        \n",
    "        #plt.figure(col,figsize=(30, 30))\n",
    "        #title=[\"A boxplot comparision of the elevation data by covertype\",\"A boxplot comparision of the aspect data by covertype\",\"A boxplot comparision of the slope data by covertype\",\"A boxplot comparision of the horizontal distance to land water by the covertype class\", \"A boxplot comparision of the vertical distance to land water by covertype\",\"A boxplot comparision of the horizontal distance to roadways by covertype\",\"A boxplot comparision of the hillshade at 9am by covertype\", \"A boxplot comparision of the hillshade at noon by covertype\",\"A boxplot comparision of the hillshade at 3pm by covertype\", \"A boxplot comparision of the horizontal distance to fire points by covertype\"]\n",
    "        #index = soil.columns.get_loc(col)\n",
    "        #soil.boxplot(column=col, by=\"Cover_Type\")\n",
    "        #plt.title(title[index], fontsize=10)\n",
    "        #plt.suptitle(\"\")\n",
    "        #filetitle=\"boxplot_\"+str(soil[col].name)+\"_byCovertype.png\"\n",
    "        #plt.savefig(filetitle)\n",
    "        #plt.show()\n",
    "\n",
    "\n"
   ]
  },
  {
   "cell_type": "code",
   "execution_count": null,
   "metadata": {
    "scrolled": true
   },
   "outputs": [],
   "source": [
    "# All numerical variables grouped when wilderness area = yes\n",
    "\n",
    "for col in soil.columns:\n",
    "    if (soil[col].dtype.name  == 'int64'):\n",
    "        plt.figure(col,figsize=(30, 30))\n",
    "        title=[\"A boxplot comparision of the elevation data by covertype\",\"A boxplot comparision of the aspect data by covertype\",\"A boxplot comparision of the slope data by covertype\",\"A boxplot comparision of the horizontal distance to land water by the covertype class\", \"A boxplot comparision of the vertical distance to land water by covertype\",\"A boxplot comparision of the horizontal distance to roadways by covertype\",\"A boxplot comparision of the hillshade at 9am by covertype\", \"A boxplot comparision of the hillshade at noon by covertype\",\"A boxplot comparision of the hillshade at 3pm by covertype\", \"A boxplot comparision of the horizontal distance to fire points by covertype\"]\n",
    "        index = soil.columns.get_loc(col)\n",
    "        soil.boxplot(column=col, by=\"Cover_Type\")\n",
    "        plt.title(title[index], fontsize=10)\n",
    "        plt.suptitle(\"\")\n",
    "        filetitle=\"boxplot_\"+str(soil[col].name)+\"_byCovertype.png\"\n",
    "        plt.savefig(filetitle)\n",
    "        plt.show()\n",
    "\n"
   ]
  },
  {
   "cell_type": "code",
   "execution_count": null,
   "metadata": {
    "scrolled": true
   },
   "outputs": [],
   "source": [
    "from pandas.plotting import scatter_matrix\n",
    "scatter_matrix(soil,alpha=0.2,figsize=(80, 80),diagonal='hist')"
   ]
  },
  {
   "cell_type": "code",
   "execution_count": null,
   "metadata": {
    "scrolled": true
   },
   "outputs": [],
   "source": []
  },
  {
   "cell_type": "code",
   "execution_count": null,
   "metadata": {
    "scrolled": true
   },
   "outputs": [],
   "source": []
  },
  {
   "cell_type": "code",
   "execution_count": null,
   "metadata": {
    "scrolled": true
   },
   "outputs": [],
   "source": []
  },
  {
   "cell_type": "code",
   "execution_count": null,
   "metadata": {
    "scrolled": true
   },
   "outputs": [],
   "source": []
  },
  {
   "cell_type": "code",
   "execution_count": null,
   "metadata": {
    "scrolled": true
   },
   "outputs": [],
   "source": []
  },
  {
   "cell_type": "code",
   "execution_count": null,
   "metadata": {
    "scrolled": true
   },
   "outputs": [],
   "source": []
  },
  {
   "cell_type": "code",
   "execution_count": null,
   "metadata": {
    "scrolled": true
   },
   "outputs": [],
   "source": []
  },
  {
   "cell_type": "code",
   "execution_count": null,
   "metadata": {
    "scrolled": true
   },
   "outputs": [],
   "source": []
  },
  {
   "cell_type": "code",
   "execution_count": null,
   "metadata": {
    "scrolled": true
   },
   "outputs": [],
   "source": []
  },
  {
   "cell_type": "code",
   "execution_count": null,
   "metadata": {
    "scrolled": true
   },
   "outputs": [],
   "source": []
  }
 ],
 "metadata": {
  "kernelspec": {
   "display_name": "Python 3",
   "language": "python",
   "name": "python3"
  },
  "language_info": {
   "codemirror_mode": {
    "name": "ipython",
    "version": 3
   },
   "file_extension": ".py",
   "mimetype": "text/x-python",
   "name": "python",
   "nbconvert_exporter": "python",
   "pygments_lexer": "ipython3",
   "version": "3.6.4"
  },
  "widgets": {
   "application/vnd.jupyter.widget-state+json": {
    "state": {},
    "version_major": 2,
    "version_minor": 0
   }
  }
 },
 "nbformat": 4,
 "nbformat_minor": 2
}
