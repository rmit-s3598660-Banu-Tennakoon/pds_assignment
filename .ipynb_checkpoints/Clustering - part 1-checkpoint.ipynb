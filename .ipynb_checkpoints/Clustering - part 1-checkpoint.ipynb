{
 "cells": [
  {
   "cell_type": "code",
   "execution_count": 13,
   "metadata": {},
   "outputs": [],
   "source": [
    "import numpy as np\n",
    "import pandas as pd\n",
    "\n",
    "import matplotlib.pyplot as plt\n",
    "\n",
    "import sklearn\n",
    "from sklearn.cluster import KMeans\n",
    "from mpl_toolkits.mplot3d import Axes3D\n",
    "from sklearn.preprocessing import scale\n",
    "from sklearn.preprocessing import MinMaxScaler\n",
    "\n",
    "import sklearn.metrics as sm\n",
    "from sklearn import datasets\n",
    "#from sklearn.metrics import confusion_matrix.classification_report\n",
    "\n",
    "%matplotlib inline"
   ]
  },
  {
   "cell_type": "markdown",
   "metadata": {},
   "source": [
    "# import cleaned data"
   ]
  },
  {
   "cell_type": "code",
   "execution_count": 4,
   "metadata": {},
   "outputs": [],
   "source": [
    "diabetes = pd.read_csv(\"diabetes-after-full-clean-noindex.csv\",dtype={'encounter_id': 'int64', 'patient_nbr': 'int64', 'race': 'category', 'gender': 'category', 'age': 'category', 'weight': 'category', 'admission_type_id': 'category', 'discharge_disposition_id': 'category', 'admission_source_id': 'category', 'time_in_hospital': 'int64', 'payer_code': 'category', 'medical_specialty': 'category', 'num_lab_procedures': 'int64', 'num_procedures': 'int64', 'num_medications': 'int64', 'number_outpatient': 'int64', 'number_emergency': 'int64', 'number_inpatient': 'int64', 'diag_1': 'category', 'diag_2': 'category', 'diag_3': 'category', 'number_diagnoses': 'int64', 'max_glu_serum': 'category', 'A1Cresult': 'category', 'metformin': 'category', 'repaglinide': 'category', 'nateglinide': 'category', 'chlorpropamide': 'category', 'glimepiride': 'category', 'acetohexamide': 'category', 'glipizide': 'category', 'glyburide': 'category', 'tolbutamide': 'category', 'pioglitazone': 'category', 'rosiglitazone': 'category', 'acarbose': 'category', 'miglitol': 'category', 'troglitazone': 'category', 'tolazamide': 'category', 'examide': 'category', 'citoglipton': 'category', 'insulin': 'category', 'glyburide-metformin': 'category', 'glipizide-metformin': 'category', 'glimepiride-pioglitazone': 'category', 'metformin-rosiglitazone': 'category', 'metformin-pioglitazone': 'category', 'change': 'category', 'diabetesMed': 'category', 'readmitted': 'category'}, usecols=range(1, 50))"
   ]
  },
  {
   "cell_type": "code",
   "execution_count": 5,
   "metadata": {},
   "outputs": [
    {
     "data": {
      "text/plain": [
       "(101766, 49)"
      ]
     },
     "execution_count": 5,
     "metadata": {},
     "output_type": "execute_result"
    }
   ],
   "source": [
    "diabetes.shape"
   ]
  },
  {
   "cell_type": "code",
   "execution_count": 6,
   "metadata": {},
   "outputs": [
    {
     "name": "stdout",
     "output_type": "stream",
     "text": [
      "patient_nbr                    int64\n",
      "race                        category\n",
      "gender                      category\n",
      "age                         category\n",
      "weight                      category\n",
      "admission_type_id           category\n",
      "discharge_disposition_id    category\n",
      "admission_source_id         category\n",
      "time_in_hospital               int64\n",
      "payer_code                  category\n",
      "medical_specialty           category\n",
      "num_lab_procedures             int64\n",
      "num_procedures                 int64\n",
      "num_medications                int64\n",
      "number_outpatient              int64\n",
      "number_emergency               int64\n",
      "number_inpatient               int64\n",
      "diag_1                      category\n",
      "diag_2                      category\n",
      "diag_3                      category\n",
      "number_diagnoses               int64\n",
      "max_glu_serum               category\n",
      "A1Cresult                   category\n",
      "metformin                   category\n",
      "repaglinide                 category\n",
      "nateglinide                 category\n",
      "chlorpropamide              category\n",
      "glimepiride                 category\n",
      "acetohexamide               category\n",
      "glipizide                   category\n",
      "glyburide                   category\n",
      "tolbutamide                 category\n",
      "pioglitazone                category\n",
      "rosiglitazone               category\n",
      "acarbose                    category\n",
      "miglitol                    category\n",
      "troglitazone                category\n",
      "tolazamide                  category\n",
      "examide                     category\n",
      "citoglipton                 category\n",
      "insulin                     category\n",
      "glyburide-metformin         category\n",
      "glipizide-metformin         category\n",
      "glimepiride-pioglitazone    category\n",
      "metformin-rosiglitazone     category\n",
      "metformin-pioglitazone      category\n",
      "change                      category\n",
      "diabetesMed                 category\n",
      "readmitted                  category\n",
      "dtype: object\n"
     ]
    }
   ],
   "source": [
    "print (diabetes.dtypes)"
   ]
  },
  {
   "cell_type": "code",
   "execution_count": 14,
   "metadata": {},
   "outputs": [],
   "source": [
    "scaler = MinMaxScaler()\n",
    "diabetes_c = scaler.fit_transform(diabetes.filter(['time_in_hospital','num_lab_procedures','num_procedures','num_medications','number_outpatient','number_emergency','number_inpatient', 'number_diagnoses']))"
   ]
  },
  {
   "cell_type": "code",
   "execution_count": 16,
   "metadata": {},
   "outputs": [
    {
     "data": {
      "text/plain": [
       "array([[0.        , 0.30534351, 0.        , ..., 0.        , 0.        ,\n",
       "        0.        ],\n",
       "       [0.15384615, 0.44274809, 0.        , ..., 0.        , 0.        ,\n",
       "        0.53333333],\n",
       "       [0.07692308, 0.07633588, 0.83333333, ..., 0.        , 0.04761905,\n",
       "        0.33333333],\n",
       "       ...,\n",
       "       [0.        , 0.39694656, 0.        , ..., 0.        , 0.        ,\n",
       "        0.8       ],\n",
       "       [0.69230769, 0.33587786, 0.33333333, ..., 0.        , 0.04761905,\n",
       "        0.53333333],\n",
       "       [0.38461538, 0.09160305, 0.5       , ..., 0.        , 0.        ,\n",
       "        0.53333333]])"
      ]
     },
     "execution_count": 16,
     "metadata": {},
     "output_type": "execute_result"
    }
   ],
   "source": [
    "diabetes_c"
   ]
  },
  {
   "cell_type": "code",
   "execution_count": 15,
   "metadata": {},
   "outputs": [
    {
     "data": {
      "text/plain": [
       "KMeans(algorithm='auto', copy_x=True, init='k-means++', max_iter=300,\n",
       "    n_clusters=3, n_init=10, n_jobs=1, precompute_distances='auto',\n",
       "    random_state=5, tol=0.0001, verbose=0)"
      ]
     },
     "execution_count": 15,
     "metadata": {},
     "output_type": "execute_result"
    }
   ],
   "source": [
    "clustering = KMeans(n_clusters =3, random_state=5)\n",
    "clustering.fit(diabetes_c)"
   ]
  },
  {
   "cell_type": "code",
   "execution_count": 19,
   "metadata": {},
   "outputs": [],
   "source": [
    "diabetes_c_cols = ['time_in_hospital','num_lab_procedures','num_procedures','num_medications','number_outpatient','number_emergency','number_inpatient', 'number_diagnoses']"
   ]
  },
  {
   "cell_type": "code",
   "execution_count": 20,
   "metadata": {},
   "outputs": [
    {
     "ename": "AttributeError",
     "evalue": "'numpy.ndarray' object has no attribute 'time_in_hospital'",
     "output_type": "error",
     "traceback": [
      "\u001b[1;31m---------------------------------------------------------------------------\u001b[0m",
      "\u001b[1;31mAttributeError\u001b[0m                            Traceback (most recent call last)",
      "\u001b[1;32m<ipython-input-20-fcbf353e2812>\u001b[0m in \u001b[0;36m<module>\u001b[1;34m()\u001b[0m\n\u001b[0;32m      1\u001b[0m \u001b[0mplt\u001b[0m\u001b[1;33m.\u001b[0m\u001b[0msubplot\u001b[0m\u001b[1;33m(\u001b[0m\u001b[1;36m1\u001b[0m\u001b[1;33m,\u001b[0m\u001b[1;36m2\u001b[0m\u001b[1;33m,\u001b[0m\u001b[1;36m1\u001b[0m\u001b[1;33m)\u001b[0m\u001b[1;33m\u001b[0m\u001b[0m\n\u001b[1;32m----> 2\u001b[1;33m \u001b[0mplt\u001b[0m\u001b[1;33m.\u001b[0m\u001b[0mscatter\u001b[0m\u001b[1;33m(\u001b[0m\u001b[0mx\u001b[0m\u001b[1;33m=\u001b[0m\u001b[0mdiabetes_c\u001b[0m\u001b[1;33m.\u001b[0m\u001b[0mtime_in_hospital\u001b[0m\u001b[1;33m,\u001b[0m \u001b[0my\u001b[0m\u001b[1;33m=\u001b[0m\u001b[0mdiabetes_c\u001b[0m\u001b[1;33m.\u001b[0m\u001b[0mnum_lab_procedures\u001b[0m \u001b[1;33m)\u001b[0m\u001b[1;33m\u001b[0m\u001b[0m\n\u001b[0m",
      "\u001b[1;31mAttributeError\u001b[0m: 'numpy.ndarray' object has no attribute 'time_in_hospital'"
     ]
    },
    {
     "data": {
      "image/png": "[encoded data removed]",
      "text/plain": [
       "<matplotlib.figure.Figure at 0x22696ea90b8>"
      ]
     },
     "metadata": {},
     "output_type": "display_data"
    }
   ],
   "source": [
    "#Standardize\n",
    "clmns = ['time_in_hospital','num_lab_procedures','num_procedures','num_medications','number_outpatient','number_emergency','number_inpatient', 'number_diagnoses']\n",
    "df_tr_std = stats.zscore(df_tr[clmns])\n",
    "\n",
    "#Cluster the data\n",
    "kmeans = KMeans(n_clusters=2, random_state=0).fit(df_tr_std)\n",
    "labels = kmeans.labels_\n",
    "\n",
    "#Glue back to originaal data\n",
    "df_tr['clusters'] = labels\n",
    "\n",
    "#Add the column into our list\n",
    "clmns.extend(['clusters'])\n",
    "\n",
    "#Lets analyze the clusters\n",
    "print df_tr[clmns].groupby(['clusters']).mean()"
   ]
  },
  {
   "cell_type": "code",
   "execution_count": null,
   "metadata": {},
   "outputs": [],
   "source": []
  }
 ],
 "metadata": {
  "kernelspec": {
   "display_name": "Python 3",
   "language": "python",
   "name": "python3"
  },
  "language_info": {
   "codemirror_mode": {
    "name": "ipython",
    "version": 3
   },
   "file_extension": ".py",
   "mimetype": "text/x-python",
   "name": "python",
   "nbconvert_exporter": "python",
   "pygments_lexer": "ipython3",
   "version": "3.6.4"
  }
 },
 "nbformat": 4,
 "nbformat_minor": 2
}
